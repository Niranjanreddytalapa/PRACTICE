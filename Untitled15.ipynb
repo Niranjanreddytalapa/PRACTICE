{
 "cells": [
  {
   "cell_type": "code",
   "execution_count": 1,
   "id": "1d578ab9",
   "metadata": {},
   "outputs": [],
   "source": [
    "class parent:\n",
    "    def f1(self):\n",
    "        print(\"In parent class\")\n",
    "class child(parent):\n",
    "    def f2(self):\n",
    "        print(\"In child class\")\n",
    "        "
   ]
  },
  {
   "cell_type": "code",
   "execution_count": 3,
   "id": "b26e13c8",
   "metadata": {},
   "outputs": [
    {
     "data": {
      "text/plain": [
       "['__class__',\n",
       " '__delattr__',\n",
       " '__dict__',\n",
       " '__dir__',\n",
       " '__doc__',\n",
       " '__eq__',\n",
       " '__format__',\n",
       " '__ge__',\n",
       " '__getattribute__',\n",
       " '__gt__',\n",
       " '__hash__',\n",
       " '__init__',\n",
       " '__init_subclass__',\n",
       " '__le__',\n",
       " '__lt__',\n",
       " '__module__',\n",
       " '__ne__',\n",
       " '__new__',\n",
       " '__reduce__',\n",
       " '__reduce_ex__',\n",
       " '__repr__',\n",
       " '__setattr__',\n",
       " '__sizeof__',\n",
       " '__str__',\n",
       " '__subclasshook__',\n",
       " '__weakref__',\n",
       " 'f1',\n",
       " 'f2']"
      ]
     },
     "execution_count": 3,
     "metadata": {},
     "output_type": "execute_result"
    }
   ],
   "source": [
    "dir(child)"
   ]
  },
  {
   "cell_type": "code",
   "execution_count": 4,
   "id": "e4974da0",
   "metadata": {},
   "outputs": [],
   "source": [
    "obj=child()"
   ]
  },
  {
   "cell_type": "code",
   "execution_count": 5,
   "id": "89dfa049",
   "metadata": {},
   "outputs": [
    {
     "name": "stdout",
     "output_type": "stream",
     "text": [
      "In parent class\n"
     ]
    }
   ],
   "source": [
    "obj.f1()"
   ]
  },
  {
   "cell_type": "code",
   "execution_count": 6,
   "id": "8bc5194b",
   "metadata": {},
   "outputs": [
    {
     "name": "stdout",
     "output_type": "stream",
     "text": [
      "In child class\n"
     ]
    }
   ],
   "source": [
    "obj.f2()"
   ]
  },
  {
   "cell_type": "code",
   "execution_count": 7,
   "id": "16a09a8e",
   "metadata": {
    "collapsed": true
   },
   "outputs": [
    {
     "ename": "SyntaxError",
     "evalue": "invalid syntax (<ipython-input-7-0861be800827>, line 2)",
     "output_type": "error",
     "traceback": [
      "\u001b[1;36m  File \u001b[1;32m\"<ipython-input-7-0861be800827>\"\u001b[1;36m, line \u001b[1;32m2\u001b[0m\n\u001b[1;33m    1.single Inheritance\u001b[0m\n\u001b[1;37m      ^\u001b[0m\n\u001b[1;31mSyntaxError\u001b[0m\u001b[1;31m:\u001b[0m invalid syntax\n"
     ]
    }
   ],
   "source": [
    "# types of inheritance\n",
    "1.single Inheritance\n",
    "2.Multiple Inheritance\n",
    "3.Multi-level Inheritance\n",
    "4.Hierarchial Inheritance\n",
    "5.Hybrid Inheritance\n"
   ]
  },
  {
   "cell_type": "code",
   "execution_count": 8,
   "id": "aa34f7d0",
   "metadata": {},
   "outputs": [
    {
     "name": "stdout",
     "output_type": "stream",
     "text": [
      "In child class\n",
      "In parent class\n"
     ]
    }
   ],
   "source": [
    "class parent:\n",
    "    def f1(self):\n",
    "        print(\"In parent class\")\n",
    "class child(parent):\n",
    "    def f2(self):\n",
    "        print(\"In child class\")\n",
    "x=child()\n",
    "x.f2()\n",
    "x.f1()"
   ]
  },
  {
   "cell_type": "code",
   "execution_count": 9,
   "id": "1d7bae86",
   "metadata": {},
   "outputs": [],
   "source": [
    "class A:\n",
    "    def f1(self):\n",
    "        print(\"Class A function f1\")\n",
    "class B:\n",
    "    def f2(self):\n",
    "        print(\"Class B function f2\")\n",
    "class C(A,B):\n",
    "    def f3(self):\n",
    "        print(\"Class C function f3\")\n",
    "obj=C()        \n",
    "        "
   ]
  },
  {
   "cell_type": "code",
   "execution_count": 10,
   "id": "7b42730d",
   "metadata": {},
   "outputs": [
    {
     "data": {
      "text/plain": [
       "['__class__',\n",
       " '__delattr__',\n",
       " '__dict__',\n",
       " '__dir__',\n",
       " '__doc__',\n",
       " '__eq__',\n",
       " '__format__',\n",
       " '__ge__',\n",
       " '__getattribute__',\n",
       " '__gt__',\n",
       " '__hash__',\n",
       " '__init__',\n",
       " '__init_subclass__',\n",
       " '__le__',\n",
       " '__lt__',\n",
       " '__module__',\n",
       " '__ne__',\n",
       " '__new__',\n",
       " '__reduce__',\n",
       " '__reduce_ex__',\n",
       " '__repr__',\n",
       " '__setattr__',\n",
       " '__sizeof__',\n",
       " '__str__',\n",
       " '__subclasshook__',\n",
       " '__weakref__',\n",
       " 'f1',\n",
       " 'f2',\n",
       " 'f3']"
      ]
     },
     "execution_count": 10,
     "metadata": {},
     "output_type": "execute_result"
    }
   ],
   "source": [
    "dir(obj)"
   ]
  },
  {
   "cell_type": "code",
   "execution_count": 11,
   "id": "e3eedfd7",
   "metadata": {},
   "outputs": [
    {
     "name": "stdout",
     "output_type": "stream",
     "text": [
      "Class B function f2\n"
     ]
    }
   ],
   "source": [
    "obj.f2()"
   ]
  },
  {
   "cell_type": "code",
   "execution_count": 12,
   "id": "a19ddb84",
   "metadata": {},
   "outputs": [
    {
     "name": "stdout",
     "output_type": "stream",
     "text": [
      "Class A function f1\n"
     ]
    }
   ],
   "source": [
    "obj.f1()"
   ]
  },
  {
   "cell_type": "code",
   "execution_count": 13,
   "id": "251a7dee",
   "metadata": {},
   "outputs": [
    {
     "name": "stdout",
     "output_type": "stream",
     "text": [
      "Class C function f3\n"
     ]
    }
   ],
   "source": [
    "obj.f3()"
   ]
  },
  {
   "cell_type": "code",
   "execution_count": 15,
   "id": "0b2a0e3c",
   "metadata": {},
   "outputs": [],
   "source": [
    "class grandparent:\n",
    "    def f1(self):\n",
    "        print(\"Class A function f1\")\n",
    "class parent(grandparent):\n",
    "    def f2(self):\n",
    "        print(\"Class B function f2\")\n",
    "class Child(parent):\n",
    "    def f3(self):\n",
    "        print(\"Class C function f3\")\n",
    "y=Child()        "
   ]
  },
  {
   "cell_type": "code",
   "execution_count": 16,
   "id": "d1fdb27c",
   "metadata": {},
   "outputs": [
    {
     "data": {
      "text/plain": [
       "['__class__',\n",
       " '__delattr__',\n",
       " '__dict__',\n",
       " '__dir__',\n",
       " '__doc__',\n",
       " '__eq__',\n",
       " '__format__',\n",
       " '__ge__',\n",
       " '__getattribute__',\n",
       " '__gt__',\n",
       " '__hash__',\n",
       " '__init__',\n",
       " '__init_subclass__',\n",
       " '__le__',\n",
       " '__lt__',\n",
       " '__module__',\n",
       " '__ne__',\n",
       " '__new__',\n",
       " '__reduce__',\n",
       " '__reduce_ex__',\n",
       " '__repr__',\n",
       " '__setattr__',\n",
       " '__sizeof__',\n",
       " '__str__',\n",
       " '__subclasshook__',\n",
       " '__weakref__',\n",
       " 'f1',\n",
       " 'f2',\n",
       " 'f3']"
      ]
     },
     "execution_count": 16,
     "metadata": {},
     "output_type": "execute_result"
    }
   ],
   "source": [
    "dir(y)"
   ]
  },
  {
   "cell_type": "code",
   "execution_count": 18,
   "id": "562b3996",
   "metadata": {},
   "outputs": [
    {
     "name": "stdout",
     "output_type": "stream",
     "text": [
      "Class A function f1\n"
     ]
    }
   ],
   "source": [
    "y.f1()"
   ]
  },
  {
   "cell_type": "code",
   "execution_count": 19,
   "id": "e26cd599",
   "metadata": {},
   "outputs": [
    {
     "name": "stdout",
     "output_type": "stream",
     "text": [
      "Class B function f2\n"
     ]
    }
   ],
   "source": [
    "y.f2()"
   ]
  },
  {
   "cell_type": "code",
   "execution_count": 20,
   "id": "e9a4ebc6",
   "metadata": {},
   "outputs": [
    {
     "name": "stdout",
     "output_type": "stream",
     "text": [
      "Class C function f3\n"
     ]
    }
   ],
   "source": [
    "y.f3()"
   ]
  },
  {
   "cell_type": "code",
   "execution_count": 21,
   "id": "703077f3",
   "metadata": {},
   "outputs": [],
   "source": [
    "class grandparent:\n",
    "    def f1(self):\n",
    "        print(\"Class A function f1\")\n",
    "class parent:\n",
    "    def f2(self):\n",
    "        print(\"Class B function f2\")\n",
    "class Child(parent):\n",
    "    def f3(self):\n",
    "        print(\"Class C function f3\")\n",
    "y=Child()        "
   ]
  },
  {
   "cell_type": "code",
   "execution_count": 23,
   "id": "8ddf90d2",
   "metadata": {},
   "outputs": [
    {
     "name": "stdout",
     "output_type": "stream",
     "text": [
      "Class B function f2\n"
     ]
    }
   ],
   "source": [
    "y.f2()\n"
   ]
  },
  {
   "cell_type": "code",
   "execution_count": 24,
   "id": "5649d881",
   "metadata": {},
   "outputs": [
    {
     "name": "stdout",
     "output_type": "stream",
     "text": [
      "Class C function f3\n"
     ]
    }
   ],
   "source": [
    "y.f3()"
   ]
  },
  {
   "cell_type": "code",
   "execution_count": 33,
   "id": "65798ca7",
   "metadata": {},
   "outputs": [],
   "source": [
    "class p1:\n",
    "    def fun1(self):\n",
    "        print(\"In parent class\")\n",
    "class c1(p1):\n",
    "    def fun2(self):\n",
    "        print(\"In child 1 class\")\n",
    "class c2(p1):\n",
    "    def fun3(self):\n",
    "        print(\"In child 2 class\")\n",
    "z1=c1()\n",
    "z2=c2()\n"
   ]
  },
  {
   "cell_type": "code",
   "execution_count": 35,
   "id": "3abcc64e",
   "metadata": {},
   "outputs": [
    {
     "name": "stdout",
     "output_type": "stream",
     "text": [
      "In parent class\n"
     ]
    }
   ],
   "source": [
    "z1.fun1()"
   ]
  },
  {
   "cell_type": "code",
   "execution_count": 36,
   "id": "ec71db51",
   "metadata": {},
   "outputs": [
    {
     "name": "stdout",
     "output_type": "stream",
     "text": [
      "In child 2 class\n"
     ]
    }
   ],
   "source": [
    "z2.fun3()"
   ]
  },
  {
   "cell_type": "code",
   "execution_count": 38,
   "id": "a7056502",
   "metadata": {},
   "outputs": [],
   "source": [
    "class clg:\n",
    "    def f1(self):\n",
    "        print(\"function in college\")\n",
    "class student1(clg):\n",
    "    def f2(self):\n",
    "        print(\"function in student 1 class\")\n",
    "class student2(student1,clg):\n",
    "    def f3(self):\n",
    "        print(\"function in student 2 class\")\n",
    "s=student2()        \n",
    "                        "
   ]
  },
  {
   "cell_type": "code",
   "execution_count": 39,
   "id": "c609b63d",
   "metadata": {},
   "outputs": [
    {
     "name": "stdout",
     "output_type": "stream",
     "text": [
      "function in college\n"
     ]
    }
   ],
   "source": [
    "s.f1()"
   ]
  },
  {
   "cell_type": "code",
   "execution_count": 40,
   "id": "dcd39153",
   "metadata": {},
   "outputs": [
    {
     "name": "stdout",
     "output_type": "stream",
     "text": [
      "function in student 1 class\n"
     ]
    }
   ],
   "source": [
    "s.f2()"
   ]
  },
  {
   "cell_type": "code",
   "execution_count": 41,
   "id": "d885c133",
   "metadata": {},
   "outputs": [
    {
     "name": "stdout",
     "output_type": "stream",
     "text": [
      "function in student 2 class\n"
     ]
    }
   ],
   "source": [
    "s.f3()"
   ]
  },
  {
   "cell_type": "code",
   "execution_count": 50,
   "id": "9b22a65a",
   "metadata": {},
   "outputs": [],
   "source": [
    "class python:\n",
    "    def __init__(self):\n",
    "        self.__a='apssdc'\n",
    "    def view(self):\n",
    "        print(self.__a)\n",
    "    def v1(self,b):\n",
    "        self.__a=1000\n",
    "        print(self.__a)\n",
    "        \n",
    "x=python()        "
   ]
  },
  {
   "cell_type": "code",
   "execution_count": 43,
   "id": "e2fc3956",
   "metadata": {},
   "outputs": [
    {
     "name": "stdout",
     "output_type": "stream",
     "text": [
      "apssdc\n"
     ]
    }
   ],
   "source": [
    "x.view()"
   ]
  },
  {
   "cell_type": "code",
   "execution_count": 46,
   "id": "22bd0b86",
   "metadata": {},
   "outputs": [
    {
     "name": "stdout",
     "output_type": "stream",
     "text": [
      "rrr\n"
     ]
    }
   ],
   "source": [
    "x.v1(\"rrr\")"
   ]
  },
  {
   "cell_type": "code",
   "execution_count": 51,
   "id": "c68566fd",
   "metadata": {},
   "outputs": [
    {
     "name": "stdout",
     "output_type": "stream",
     "text": [
      "1000\n"
     ]
    }
   ],
   "source": [
    "x.v1(\"nnn\")"
   ]
  },
  {
   "cell_type": "code",
   "execution_count": 53,
   "id": "ff457cad",
   "metadata": {},
   "outputs": [],
   "source": [
    "class m1:\n",
    "    __a=10\n",
    "    def add(self,b):\n",
    "        sum=self.__a+b\n",
    "        return (sum)\n",
    "ob=m1()"
   ]
  },
  {
   "cell_type": "code",
   "execution_count": 56,
   "id": "169ce63d",
   "metadata": {},
   "outputs": [
    {
     "data": {
      "text/plain": [
       "820"
      ]
     },
     "execution_count": 56,
     "metadata": {},
     "output_type": "execute_result"
    }
   ],
   "source": [
    "ob.add(810)"
   ]
  },
  {
   "cell_type": "code",
   "execution_count": 57,
   "id": "e06db6da",
   "metadata": {
    "collapsed": true
   },
   "outputs": [
    {
     "ename": "AttributeError",
     "evalue": "'m1' object has no attribute '__a'",
     "output_type": "error",
     "traceback": [
      "\u001b[1;31m---------------------------------------------------------------------------\u001b[0m",
      "\u001b[1;31mAttributeError\u001b[0m                            Traceback (most recent call last)",
      "\u001b[1;32m<ipython-input-57-1646835dda10>\u001b[0m in \u001b[0;36m<module>\u001b[1;34m\u001b[0m\n\u001b[1;32m----> 1\u001b[1;33m \u001b[0mob\u001b[0m\u001b[1;33m.\u001b[0m\u001b[0m__a\u001b[0m\u001b[1;33m\u001b[0m\u001b[1;33m\u001b[0m\u001b[0m\n\u001b[0m",
      "\u001b[1;31mAttributeError\u001b[0m: 'm1' object has no attribute '__a'"
     ]
    }
   ],
   "source": [
    "ob.__a"
   ]
  },
  {
   "cell_type": "code",
   "execution_count": 58,
   "id": "3dbd2608",
   "metadata": {},
   "outputs": [],
   "source": [
    "class car:\n",
    "    def __inti__(self):\n",
    "        self.__update()\n",
    "    def drive(self):\n",
    "        print(\"driving\")\n",
    "    def __update(self):\n",
    "        print(\"update your software\")\n",
    "c=car()       "
   ]
  },
  {
   "cell_type": "code",
   "execution_count": 59,
   "id": "8913afb0",
   "metadata": {},
   "outputs": [
    {
     "name": "stdout",
     "output_type": "stream",
     "text": [
      "driving\n"
     ]
    }
   ],
   "source": [
    "c.drive()"
   ]
  },
  {
   "cell_type": "code",
   "execution_count": 60,
   "id": "d0b9a702",
   "metadata": {},
   "outputs": [
    {
     "name": "stdout",
     "output_type": "stream",
     "text": [
      "update your software\n"
     ]
    }
   ],
   "source": [
    "class car:\n",
    "    def __init__(self):\n",
    "        self.__update()\n",
    "    def drive(self):\n",
    "        print(\"driving\")\n",
    "    def __update(self):\n",
    "        print(\"update your software\")\n",
    "c=car()       "
   ]
  },
  {
   "cell_type": "code",
   "execution_count": 69,
   "id": "fab16297",
   "metadata": {},
   "outputs": [
    {
     "name": "stdout",
     "output_type": "stream",
     "text": [
      "18\n",
      "update your software\n"
     ]
    }
   ],
   "source": [
    "class car:\n",
    "    def __init__(self,x):\n",
    "        self.x=x\n",
    "        self.__update(x)\n",
    "    def drive(self):\n",
    "        print(\"driving\")\n",
    "    def __update(self,x):\n",
    "        print(self.x)\n",
    "        print(\"update your software\")\n",
    "c=car(18)       "
   ]
  },
  {
   "cell_type": "code",
   "execution_count": 64,
   "id": "0308846d",
   "metadata": {},
   "outputs": [
    {
     "name": "stdout",
     "output_type": "stream",
     "text": [
      "driving\n"
     ]
    }
   ],
   "source": [
    "c.drive()"
   ]
  },
  {
   "cell_type": "code",
   "execution_count": 66,
   "id": "c0d2e9b1",
   "metadata": {},
   "outputs": [
    {
     "data": {
      "text/plain": [
       "15"
      ]
     },
     "execution_count": 66,
     "metadata": {},
     "output_type": "execute_result"
    }
   ],
   "source": [
    "c.x"
   ]
  },
  {
   "cell_type": "code",
   "execution_count": 70,
   "id": "4992f55f",
   "metadata": {},
   "outputs": [
    {
     "data": {
      "text/plain": [
       "18"
      ]
     },
     "execution_count": 70,
     "metadata": {},
     "output_type": "execute_result"
    }
   ],
   "source": [
    "c.x"
   ]
  },
  {
   "cell_type": "code",
   "execution_count": 78,
   "id": "d96ab005",
   "metadata": {},
   "outputs": [
    {
     "name": "stdout",
     "output_type": "stream",
     "text": [
      "belongs to c1 constructor\n"
     ]
    }
   ],
   "source": [
    "class p1:\n",
    "    def __init(self):\n",
    "        print(\"p1 constructor\")\n",
    "    def fun1(self):\n",
    "        print(\"In parent class\")\n",
    "class c1(p1):\n",
    "    def __init__(self):\n",
    "        print(\"belongs to c1 constructor\")\n",
    "    def fun2(self):\n",
    "        print(\"In child 1 class\")\n",
    "a1=c1()"
   ]
  },
  {
   "cell_type": "code",
   "execution_count": 81,
   "id": "ee35a0c4",
   "metadata": {
    "scrolled": false
   },
   "outputs": [
    {
     "name": "stdout",
     "output_type": "stream",
     "text": [
      "p1 constructor\n",
      "belongs to c1 constructor\n"
     ]
    }
   ],
   "source": [
    "class p1:\n",
    "    def __init__(self):\n",
    "        print(\"p1 constructor\")\n",
    "    def fun1(self):\n",
    "        print(\"In parent class\")\n",
    "class c1(p1):\n",
    "    def __init__(self):\n",
    "        super().__init__()\n",
    "        print(\"belongs to c1 constructor\")\n",
    "    def fun2(self):\n",
    "        print(\"In child 1 class\")\n",
    "a1=c1()"
   ]
  },
  {
   "cell_type": "code",
   "execution_count": 82,
   "id": "3605bff6",
   "metadata": {},
   "outputs": [
    {
     "name": "stdout",
     "output_type": "stream",
     "text": [
      "p1 constructor\n",
      "belongs to c1 constructor\n"
     ]
    }
   ],
   "source": [
    "class p1:\n",
    "    def __init__(self):\n",
    "        print(\"p1 constructor\")\n",
    "    def fun1(self):\n",
    "        print(\"In parent 1 class\")\n",
    "class p2:\n",
    "    def __init__(self):\n",
    "        print(\"p2 constructor\")\n",
    "    def fun2(self):\n",
    "        print(\"in parent 2 class\")\n",
    "class c1(p1,p2):\n",
    "    def __init__(self):\n",
    "        super().__init__()\n",
    "        print(\"belongs to c1 constructor\")\n",
    "    def fun3(self):\n",
    "        super().fun2()\n",
    "        print(\"In child 1 class\")\n",
    "a1=c1()"
   ]
  },
  {
   "cell_type": "code",
   "execution_count": 83,
   "id": "c024c8ef",
   "metadata": {},
   "outputs": [
    {
     "name": "stdout",
     "output_type": "stream",
     "text": [
      "in parent 2 class\n",
      "In child 1 class\n"
     ]
    }
   ],
   "source": [
    "a1.fun3()"
   ]
  },
  {
   "cell_type": "code",
   "execution_count": 84,
   "id": "790cc8de",
   "metadata": {},
   "outputs": [
    {
     "name": "stdout",
     "output_type": "stream",
     "text": [
      "In parent 1 class\n"
     ]
    }
   ],
   "source": [
    "a1.fun1()"
   ]
  },
  {
   "cell_type": "code",
   "execution_count": 85,
   "id": "fd96d0e9",
   "metadata": {},
   "outputs": [
    {
     "name": "stdout",
     "output_type": "stream",
     "text": [
      "in parent 2 class\n"
     ]
    }
   ],
   "source": [
    "a1.fun2()"
   ]
  },
  {
   "cell_type": "code",
   "execution_count": null,
   "id": "6cadaf67",
   "metadata": {},
   "outputs": [],
   "source": []
  }
 ],
 "metadata": {
  "kernelspec": {
   "display_name": "Python 3",
   "language": "python",
   "name": "python3"
  },
  "language_info": {
   "codemirror_mode": {
    "name": "ipython",
    "version": 3
   },
   "file_extension": ".py",
   "mimetype": "text/x-python",
   "name": "python",
   "nbconvert_exporter": "python",
   "pygments_lexer": "ipython3",
   "version": "3.8.8"
  }
 },
 "nbformat": 4,
 "nbformat_minor": 5
}
